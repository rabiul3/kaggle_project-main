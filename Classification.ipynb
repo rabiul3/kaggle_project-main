{
  "nbformat": 4,
  "nbformat_minor": 0,
  "metadata": {
    "colab": {
      "provenance": []
    },
    "kernelspec": {
      "name": "python3",
      "display_name": "Python 3"
    },
    "language_info": {
      "name": "python"
    }
  },
  "cells": [
    {
      "cell_type": "code",
      "execution_count": 3,
      "metadata": {
        "colab": {
          "base_uri": "https://localhost:8080/"
        },
        "id": "8dDdY05FUN15",
        "outputId": "a44dab4d-bc81-4b4e-a689-4e07959dc992"
      },
      "outputs": [
        {
          "output_type": "stream",
          "name": "stdout",
          "text": [
            "Accuracy 0.9590643274853801\n"
          ]
        }
      ],
      "source": [
        "# import dataset\n",
        "from sklearn import datasets\n",
        "cancer=datasets.load_breast_cancer()\n",
        "dir(cancer)\n",
        "cancer.data.shape\n",
        "\n",
        "# Cross-validation\n",
        "from sklearn.model_selection import train_test_split\n",
        "X_train, X_test, y_train, y_test = train_test_split(cancer.data,cancer.target , test_size=0.3, random_state=0)\n",
        "X_train.shape\n",
        "X_test.shape\n",
        "\n",
        "from sklearn import svm\n",
        "clf = svm.SVC(kernel=\"linear\")\n",
        "clf.fit(X_train, y_train)\n",
        "\n",
        "pred=clf.predict(X_test)\n",
        "\n",
        "\n",
        "# Evaluation\n",
        "from sklearn import metrics\n",
        "print(\"Accuracy\",metrics.accuracy_score(y_test,pred))"
      ]
    },
    {
      "cell_type": "markdown",
      "source": [
        "# To understand neural network with deep learning go to https://www.youtube.com/watch?v=m0pIlLfpXWE"
      ],
      "metadata": {
        "id": "Ix-oY2v8nVel"
      }
    },
    {
      "cell_type": "code",
      "source": [
        "from keras.engine import sequential\n",
        "import numpy as np\n",
        "from keras.models import Sequential\n",
        "from keras.layers import Dense\n",
        "#data=np.random.random((1000,100))\n",
        "#labels=np.random.randint(2,size=(1000,1))\n",
        "\n",
        "# import dataset\n",
        "from sklearn import datasets\n",
        "cancer=datasets.load_breast_cancer()\n",
        "data=cancer.data\n",
        "labels=cancer.target\n",
        "\n",
        "# Cross-validation\n",
        "from sklearn.model_selection import train_test_split\n",
        "X_train, X_test, y_train, y_test = train_test_split(cancer.data,cancer.target , test_size=0.3, random_state=0)\n",
        "X_train.shape\n",
        "X_test.shape\n",
        "\n",
        "from keras import optimizers\n",
        "model=Sequential()\n",
        "model.add(Dense(8, activation='relu', input_dim=30))\n",
        "model.add(Dense(1, activation='sigmoid'))\n",
        "model.compile(optimizer='sgd',loss='binary_crossentropy', metrics=['accuracy'])\n",
        "model.summary()\n",
        "\n",
        "history = model.fit(X_train, y_train, batch_size = 50, epochs = 100, verbose = 1)\n",
        "#model.fit(X_train,y_train,batch_size=32,epochs=15,verbose=1,validation_data=(X_test,y_test))\n",
        "\n",
        "results = model.evaluate(X_test, y_test)\n",
        "\n",
        "print(model.metrics_names)     # list of metric names the model is employing\n",
        "print(results)                 # actual figure of metrics computed\n",
        "print('loss: ', results[0])\n",
        "print('accuracy: ', results[1])"
      ],
      "metadata": {
        "id": "ktwhf63NRWdo"
      },
      "execution_count": null,
      "outputs": []
    },
    {
      "cell_type": "markdown",
      "source": [
        "# Deep learning with Image data with 10 categoris\n",
        "# https://www.youtube.com/watch?v=78lhQ5mJMyE\n"
      ],
      "metadata": {
        "id": "u8eq6W67KqDd"
      }
    },
    {
      "cell_type": "code",
      "source": [
        "# import data\n",
        "from keras.datasets import mnist\n",
        "# Setup train and test splits\n",
        "(X_train, y_train), (X_test, y_test)=mnist.load_data()\n",
        "print(\"2-D of the images\")\n",
        "print(X_train.shape, X_test.shape, y_train.shape, y_test.shape)\n",
        "\n",
        "# reshape the training and testing image into 1D\n",
        "train_images=X_train.reshape(60000,28*28)\n",
        "train_images=train_images.astype(\"float32\")/255\n",
        "\n",
        "test_images=X_test.reshape(10000,28*28)\n",
        "test_images=test_images.astype(\"float32\")/255\n",
        "print(\"1-D of the images\")\n",
        "print(train_images.shape,test_images.shape)\n",
        "\n",
        "\n",
        "# Categorically encode the labels using keras API\n",
        "from keras.utils import to_categorical\n",
        "train_labels=to_categorical(y_train)\n",
        "test_labels=to_categorical(y_test)\n",
        "print(\"Training labels with categorical\")\n",
        "print(train_labels.shape, test_labels.shape)\n",
        "\n",
        "# Model create\n",
        "from keras import models\n",
        "from keras import layers\n",
        "model=models.Sequential()\n",
        "model.add(layers.Dense(512, activation=\"relu\", input_shape=(28*28,)))\n",
        "model.add(layers.Dense(10, activation=\"softmax\"))\n",
        "print(\"Summary of our model\")\n",
        "model.summary()\n",
        "\n",
        "# Compiler the model\n",
        "model.compile(optimizer=\"rmsprop\", \n",
        "              loss=\"categorical_crossentropy\",\n",
        "              metrics=[\"accuracy\"])\n",
        "\n",
        "# Learning the model using training dataset\n",
        "model.fit(train_images,\n",
        "          train_labels,\n",
        "          epochs=5,\n",
        "          batch_size=128)\n",
        "\n",
        "# Testing the model using the test dataset\n",
        "test_loss, test_acc=model.evaluate(test_images, test_labels)\n",
        "print(\"Test_loss:\", test_loss, \"\\n accuracy:\", test_acc)"
      ],
      "metadata": {
        "id": "wW3Z1uDyc-nz"
      },
      "execution_count": null,
      "outputs": []
    },
    {
      "cell_type": "code",
      "source": [
        "import pandas as pd\n",
        "df1=pd.DataFrame(y_train)\n",
        "\n",
        "\n",
        "df2=pd.DataFrame(train_labels)\n",
        "#.to_csv(\"out2.csv\")\n",
        "\n",
        "frame=[df2,df1]\n",
        "result = pd.concat(frame)\n",
        "type(result)\n",
        "result.to_csv(\"out.csv\")\n"
      ],
      "metadata": {
        "id": "LE-UphpI6Af8"
      },
      "execution_count": null,
      "outputs": []
    },
    {
      "cell_type": "markdown",
      "source": [
        "# Deep learning with Image data with 10 categoris using tesnor flow: https://www.youtube.com/watch?v=bee0GrKBCrE\n"
      ],
      "metadata": {
        "id": "JDniDTduDxNf"
      }
    },
    {
      "cell_type": "code",
      "source": [
        "import tensorflow as tf\n",
        "# Setup train and test splits\n",
        "(X_train, y_train), (X_test, y_test)=tf.keras.datasets.mnist.load_data()\n",
        "print(\"2-D of the images\")\n",
        "print(X_train.shape, X_test.shape, y_train.shape, y_test.shape)\n",
        "\n",
        "\n",
        "# No need reshape the training and testing image into 1D\n",
        "#train_images=X_train.reshape(60000,28*28)\n",
        "train_images=X_train.astype(\"float32\")/255\n",
        "#train_images=X_train/255.0\n",
        "\n",
        "#test_images=X_test.reshape(10000,28*28)\n",
        "test_images=X_test.astype(\"float32\")/255\n",
        "#test_images=X_test/255.0\n",
        "print(\"2-D of the images\")\n",
        "print(train_images.shape,test_images.shape)\n",
        "\n",
        "# Model create\n",
        "model=tf.keras.models.Sequential([tf.keras.layers.Flatten(input_shape=(28,28)),\n",
        "                                 tf.keras.layers.Dense(128, activation=\"relu\"),\n",
        "                                 tf.keras.layers.Dense(10, activation=tf.nn.softmax)])\n",
        "\n",
        "# Compile the model\n",
        "model.compile(optimizer=tf.optimizers.Adam(),\n",
        "              loss=\"sparse_categorical_crossentropy\",\n",
        "              metrics=[\"accuracy\"])\n",
        "\n",
        "# Training the model\n",
        "model.fit(train_images,y_train,epochs=5)\n",
        "\n",
        "# Testing the model\n",
        "test_loss, test_acc=model.evaluate(test_images, y_test)\n",
        "print(\"Test_loss:\", test_loss, \"\\n accuracy:\", test_acc)"
      ],
      "metadata": {
        "colab": {
          "base_uri": "https://localhost:8080/"
        },
        "id": "c6nY7u9BEnr6",
        "outputId": "744f5054-dfc2-43fd-d258-a6cd84da0ea3"
      },
      "execution_count": null,
      "outputs": [
        {
          "output_type": "stream",
          "name": "stdout",
          "text": [
            "2-D of the images\n",
            "(60000, 28, 28) (10000, 28, 28) (60000,) (10000,)\n",
            "2-D of the images\n",
            "(60000, 28, 28) (10000, 28, 28)\n",
            "Epoch 1/5\n",
            "1875/1875 [==============================] - 7s 4ms/step - loss: 0.2572 - accuracy: 0.9263\n",
            "Epoch 2/5\n",
            "1875/1875 [==============================] - 6s 3ms/step - loss: 0.1129 - accuracy: 0.9658\n",
            "Epoch 3/5\n",
            "1875/1875 [==============================] - 6s 3ms/step - loss: 0.0768 - accuracy: 0.9765\n",
            "Epoch 4/5\n",
            "1875/1875 [==============================] - 6s 3ms/step - loss: 0.0590 - accuracy: 0.9821\n",
            "Epoch 5/5\n",
            "1875/1875 [==============================] - 6s 3ms/step - loss: 0.0445 - accuracy: 0.9866\n",
            "313/313 [==============================] - 1s 2ms/step - loss: 0.0805 - accuracy: 0.9748\n",
            "Test_loss: 0.08045126497745514 \n",
            " accuracy: 0.9747999906539917\n"
          ]
        }
      ]
    },
    {
      "cell_type": "markdown",
      "source": [
        "# CNN model with CIFAR-10 Photo Classification Dataset: 1) https://machinelearningmastery.com/how-to-develop-a-cnn-from-scratch-for-cifar-10-photo-classification/\n",
        "\n",
        "# 2) https://www.youtube.com/watch?v=mRVTKrbRYi0\n",
        "\n",
        "\n"
      ],
      "metadata": {
        "id": "52T5i_P8rxTH"
      }
    },
    {
      "cell_type": "code",
      "source": [
        "# test harness for evaluating models on the cifar10 dataset\n",
        "import sys\n",
        "from matplotlib import pyplot\n",
        "from keras.datasets import cifar10\n",
        "from keras.utils import to_categorical\n",
        "from keras.models import Sequential\n",
        "from keras.layers import Conv2D\n",
        "from keras.layers import MaxPooling2D\n",
        "from keras.layers import Dense\n",
        "from keras.layers import Flatten\n",
        "from keras.optimizers import SGD\n",
        "# function to Load training data and test data\n",
        "def load_dataset():\n",
        "  # load dataset\n",
        "  (trainX, trainY), (testX, testY)=cifar10.load_data()\n",
        "  # one hot encode target values\n",
        "  trainY=to_categorical(trainY)\n",
        "  testY=to_categorical(testY)\n",
        "  return trainX, trainY, testX, testY\n",
        "\n",
        "# function to pre-process the train and test dataset\n",
        "def pre_process(trainX, testX):\n",
        "  # convert integers to floats\n",
        "  train=trainX.astype(\"float32\")\n",
        "  test=testX.astype(\"float32\")\n",
        "  # Normalize to range 0-1\n",
        "  train_norm=train/255.0\n",
        "  test_norm=test/255.0\n",
        "  # return normalize images\n",
        "  return train_norm, test_norm\n",
        "\n",
        "# Baseline: 1 VGG Block\n",
        "# define cnn model\n",
        "def define_model():\n",
        "  model = Sequential()\n",
        "  model.add(Conv2D(32, (3, 3), activation='relu', input_shape=(32, 32, 3)))\n",
        "  model.add(Conv2D(32, (3, 3), activation='relu'))\n",
        "  model.add(MaxPooling2D((2, 2)))\n",
        "  model.add(Flatten())\n",
        "  model.add(Dense(64, activation='relu'))\n",
        "  model.add(Dense(10, activation='softmax'))\n",
        "  # compile model\n",
        "  model.compile(optimizer=\"rmsprop\",\n",
        "                loss='categorical_crossentropy',\n",
        "                metrics=['accuracy'])\n",
        "  return model \n",
        "\n",
        "# Evaluation \n",
        "trainX, trainY, testX, testY = load_dataset()\n",
        "print(trainX.shape, trainY.shape, testX.shape, testY.shape)\n",
        "  \n",
        "# pre-processing the dataset\n",
        "train_images, test_images=pre_process(trainX, testX)\n",
        "print(train_images.shape, test_images.shape)\n",
        "  \n",
        "# Define CNN model\n",
        "model=define_model()\n",
        "\n",
        "# fit model\n",
        "history=model.fit(train_images, trainY, epochs=5, batch_size=64)\n",
        "#history=model.fit(train_images, trainY, epochs=100, batch_size=64, verbose=0)\n",
        "\n",
        "# evaluate model\n",
        "model.evaluate(test_images, testY)[1]\n",
        "\n",
        "\n",
        "\n",
        "\n"
      ],
      "metadata": {
        "colab": {
          "base_uri": "https://localhost:8080/"
        },
        "id": "GzOrFbMHr51t",
        "outputId": "9e826680-ec5b-4e71-9355-0cfa3dd24079"
      },
      "execution_count": null,
      "outputs": [
        {
          "output_type": "stream",
          "name": "stdout",
          "text": [
            "(50000, 32, 32, 3) (50000, 10) (10000, 32, 32, 3) (10000, 10)\n",
            "(50000, 32, 32, 3) (10000, 32, 32, 3)\n",
            "Epoch 1/5\n",
            "782/782 [==============================] - 120s 152ms/step - loss: 1.4920 - accuracy: 0.4714\n",
            "Epoch 2/5\n",
            "782/782 [==============================] - 118s 151ms/step - loss: 1.1164 - accuracy: 0.6087\n",
            "Epoch 3/5\n",
            "782/782 [==============================] - 116s 149ms/step - loss: 0.9558 - accuracy: 0.6695\n",
            "Epoch 4/5\n",
            "782/782 [==============================] - 118s 150ms/step - loss: 0.8432 - accuracy: 0.7113\n",
            "Epoch 5/5\n",
            "782/782 [==============================] - 117s 150ms/step - loss: 0.7524 - accuracy: 0.7411\n",
            "313/313 [==============================] - 6s 20ms/step - loss: 1.0113 - accuracy: 0.6471\n"
          ]
        },
        {
          "output_type": "execute_result",
          "data": {
            "text/plain": [
              "0.6470999717712402"
            ]
          },
          "metadata": {},
          "execution_count": 28
        }
      ]
    },
    {
      "cell_type": "code",
      "source": [
        "model.summary()"
      ],
      "metadata": {
        "colab": {
          "base_uri": "https://localhost:8080/"
        },
        "id": "JPYcrEVfWwtS",
        "outputId": "06105ffb-715b-4c20-e6d1-8a9ac3aa4301"
      },
      "execution_count": null,
      "outputs": [
        {
          "output_type": "stream",
          "name": "stdout",
          "text": [
            "Model: \"sequential_6\"\n",
            "_________________________________________________________________\n",
            " Layer (type)                Output Shape              Param #   \n",
            "=================================================================\n",
            " conv2d_12 (Conv2D)          (None, 30, 30, 32)        896       \n",
            "                                                                 \n",
            " conv2d_13 (Conv2D)          (None, 28, 28, 32)        9248      \n",
            "                                                                 \n",
            " max_pooling2d_6 (MaxPooling  (None, 14, 14, 32)       0         \n",
            " 2D)                                                             \n",
            "                                                                 \n",
            " flatten_6 (Flatten)         (None, 6272)              0         \n",
            "                                                                 \n",
            " dense_12 (Dense)            (None, 64)                401472    \n",
            "                                                                 \n",
            " dense_13 (Dense)            (None, 10)                650       \n",
            "                                                                 \n",
            "=================================================================\n",
            "Total params: 412,266\n",
            "Trainable params: 412,266\n",
            "Non-trainable params: 0\n",
            "_________________________________________________________________\n"
          ]
        }
      ]
    },
    {
      "cell_type": "markdown",
      "source": [
        "# New section"
      ],
      "metadata": {
        "id": "hbCPBHZMP9rQ"
      }
    },
    {
      "cell_type": "code",
      "source": [
        "# import dataset\n",
        "from sklearn import datasets\n",
        "cancer=datasets.load_breast_cancer()\n",
        "dir(cancer)\n",
        "# Cross-validation\n",
        "from sklearn.model_selection import train_test_split\n",
        "X_train, X_test, y_train, y_test = train_test_split(cancer.data, cancer.target, test_size=0.33, random_state=42)\n",
        "# Model create\n",
        "from sklearn import svm\n",
        "m=svm.SVC(kernel=\"rbf\")\n",
        "m.fit(X_train,y_train)\n",
        "# prediction\n",
        "pred=m.predict(X_test)\n",
        "# Evaluation\n",
        "from sklearn import metrics\n",
        "print(\"Accuracy:\",metrics.accuracy_score(y_test,pred))"
      ],
      "metadata": {
        "colab": {
          "base_uri": "https://localhost:8080/"
        },
        "id": "H4-_4tChLlMq",
        "outputId": "9319a576-6767-421d-f539-6e5ddf102da2"
      },
      "execution_count": null,
      "outputs": [
        {
          "output_type": "stream",
          "name": "stdout",
          "text": [
            "Accuracy: 0.9521276595744681\n"
          ]
        }
      ]
    },
    {
      "cell_type": "code",
      "source": [
        "from google.colab import files\n",
        "files.upload()"
      ],
      "metadata": {
        "id": "-YX-GgGadwMk"
      },
      "execution_count": null,
      "outputs": []
    },
    {
      "cell_type": "code",
      "source": [
        "import pandas as pd\n",
        "df=pd.read_csv(\"SMART.csv\")\n",
        "data=df[['Ln_AdCre','age','All_death_event']]\n",
        "data['All_death_event']= data['All_death_event'].astype(int)\n",
        "data\n",
        "x=data.drop(['All_death_event'], axis=1)\n",
        "y=data[['All_death_event']]\n",
        "\n",
        "# Cross-value\n",
        "from sklearn.model_selection import train_test_split\n",
        "X_train, X_test, y_train, y_test = train_test_split(x, y, test_size=0.33, random_state=42)\n",
        "# create svm model\n",
        "from sklearn import svm\n",
        "m=svm.SVC(kernel=\"rbf\")\n",
        "m.fit(X_train,y_train)\n",
        "# prediction\n",
        "pred=m.predict(X_test)\n",
        "# Evaluate\n",
        "from sklearn import metrics\n",
        "print(\"Accuracy\",metrics.accuracy_score(y_test,pred))"
      ],
      "metadata": {
        "colab": {
          "base_uri": "https://localhost:8080/"
        },
        "id": "BqZMqPGUeCjW",
        "outputId": "e39d0fe5-59f1-47c5-f78d-a0cc12e92f1a"
      },
      "execution_count": 5,
      "outputs": [
        {
          "output_type": "stream",
          "name": "stdout",
          "text": [
            "Accuracy 0.8823529411764706\n"
          ]
        },
        {
          "output_type": "stream",
          "name": "stderr",
          "text": [
            "<ipython-input-5-0b1036eb6204>:4: SettingWithCopyWarning: \n",
            "A value is trying to be set on a copy of a slice from a DataFrame.\n",
            "Try using .loc[row_indexer,col_indexer] = value instead\n",
            "\n",
            "See the caveats in the documentation: https://pandas.pydata.org/pandas-docs/stable/user_guide/indexing.html#returning-a-view-versus-a-copy\n",
            "  data['All_death_event']= data['All_death_event'].astype(int)\n",
            "/usr/local/lib/python3.9/dist-packages/sklearn/utils/validation.py:1143: DataConversionWarning: A column-vector y was passed when a 1d array was expected. Please change the shape of y to (n_samples, ), for example using ravel().\n",
            "  y = column_or_1d(y, warn=True)\n"
          ]
        }
      ]
    },
    {
      "cell_type": "code",
      "source": [
        "from google.colab import files\n",
        "files.upload()"
      ],
      "metadata": {
        "id": "HTJq4YyY51th"
      },
      "execution_count": null,
      "outputs": []
    },
    {
      "cell_type": "code",
      "source": [
        "import pandas as pd\n",
        "df=pd.read_csv(\"SMART.csv\")"
      ],
      "metadata": {
        "id": "3j9Z7Wh_7v_T"
      },
      "execution_count": null,
      "outputs": []
    },
    {
      "cell_type": "code",
      "source": [
        "#dir(df)\n",
        "data=df[['age','LnACR','All_death_event']]\n",
        "data['All_death_event']=data['All_death_event'].astype(int)\n",
        "data\n",
        "\n",
        "\n",
        "#from sklearn.model_selection import train_test_split\n",
        "#X_train, X_test, y_train, y_test = train_test_split(data,data.All_death_event , test_size=0.3, random_state=0)"
      ],
      "metadata": {
        "colab": {
          "base_uri": "https://localhost:8080/",
          "height": 531
        },
        "id": "_YeHfSzhCrwG",
        "outputId": "d3e2731e-a11d-41af-d111-ae34d4ee5550"
      },
      "execution_count": null,
      "outputs": [
        {
          "output_type": "stream",
          "name": "stderr",
          "text": [
            "<ipython-input-67-2e219d3a9b69>:3: SettingWithCopyWarning: \n",
            "A value is trying to be set on a copy of a slice from a DataFrame.\n",
            "Try using .loc[row_indexer,col_indexer] = value instead\n",
            "\n",
            "See the caveats in the documentation: https://pandas.pydata.org/pandas-docs/stable/user_guide/indexing.html#returning-a-view-versus-a-copy\n",
            "  data['All_death_event']=data['All_death_event'].astype(int)\n"
          ]
        },
        {
          "output_type": "execute_result",
          "data": {
            "text/plain": [
              "      age  LnACR  All_death_event\n",
              "0    51.0   3.61                0\n",
              "1    61.0   3.04                0\n",
              "2    57.0   5.40                1\n",
              "3    76.0   5.18                1\n",
              "4    58.0   3.18                0\n",
              "..    ...    ...              ...\n",
              "304  58.0   1.79                0\n",
              "305  64.0   0.00                0\n",
              "306  47.0   3.09                0\n",
              "307  88.0   3.83                0\n",
              "308  83.0   1.95                0\n",
              "\n",
              "[309 rows x 3 columns]"
            ],
            "text/html": [
              "\n",
              "  <div id=\"df-0c3415cd-117b-4bc8-9636-98c44b88334e\">\n",
              "    <div class=\"colab-df-container\">\n",
              "      <div>\n",
              "<style scoped>\n",
              "    .dataframe tbody tr th:only-of-type {\n",
              "        vertical-align: middle;\n",
              "    }\n",
              "\n",
              "    .dataframe tbody tr th {\n",
              "        vertical-align: top;\n",
              "    }\n",
              "\n",
              "    .dataframe thead th {\n",
              "        text-align: right;\n",
              "    }\n",
              "</style>\n",
              "<table border=\"1\" class=\"dataframe\">\n",
              "  <thead>\n",
              "    <tr style=\"text-align: right;\">\n",
              "      <th></th>\n",
              "      <th>age</th>\n",
              "      <th>LnACR</th>\n",
              "      <th>All_death_event</th>\n",
              "    </tr>\n",
              "  </thead>\n",
              "  <tbody>\n",
              "    <tr>\n",
              "      <th>0</th>\n",
              "      <td>51.0</td>\n",
              "      <td>3.61</td>\n",
              "      <td>0</td>\n",
              "    </tr>\n",
              "    <tr>\n",
              "      <th>1</th>\n",
              "      <td>61.0</td>\n",
              "      <td>3.04</td>\n",
              "      <td>0</td>\n",
              "    </tr>\n",
              "    <tr>\n",
              "      <th>2</th>\n",
              "      <td>57.0</td>\n",
              "      <td>5.40</td>\n",
              "      <td>1</td>\n",
              "    </tr>\n",
              "    <tr>\n",
              "      <th>3</th>\n",
              "      <td>76.0</td>\n",
              "      <td>5.18</td>\n",
              "      <td>1</td>\n",
              "    </tr>\n",
              "    <tr>\n",
              "      <th>4</th>\n",
              "      <td>58.0</td>\n",
              "      <td>3.18</td>\n",
              "      <td>0</td>\n",
              "    </tr>\n",
              "    <tr>\n",
              "      <th>...</th>\n",
              "      <td>...</td>\n",
              "      <td>...</td>\n",
              "      <td>...</td>\n",
              "    </tr>\n",
              "    <tr>\n",
              "      <th>304</th>\n",
              "      <td>58.0</td>\n",
              "      <td>1.79</td>\n",
              "      <td>0</td>\n",
              "    </tr>\n",
              "    <tr>\n",
              "      <th>305</th>\n",
              "      <td>64.0</td>\n",
              "      <td>0.00</td>\n",
              "      <td>0</td>\n",
              "    </tr>\n",
              "    <tr>\n",
              "      <th>306</th>\n",
              "      <td>47.0</td>\n",
              "      <td>3.09</td>\n",
              "      <td>0</td>\n",
              "    </tr>\n",
              "    <tr>\n",
              "      <th>307</th>\n",
              "      <td>88.0</td>\n",
              "      <td>3.83</td>\n",
              "      <td>0</td>\n",
              "    </tr>\n",
              "    <tr>\n",
              "      <th>308</th>\n",
              "      <td>83.0</td>\n",
              "      <td>1.95</td>\n",
              "      <td>0</td>\n",
              "    </tr>\n",
              "  </tbody>\n",
              "</table>\n",
              "<p>309 rows × 3 columns</p>\n",
              "</div>\n",
              "      <button class=\"colab-df-convert\" onclick=\"convertToInteractive('df-0c3415cd-117b-4bc8-9636-98c44b88334e')\"\n",
              "              title=\"Convert this dataframe to an interactive table.\"\n",
              "              style=\"display:none;\">\n",
              "        \n",
              "  <svg xmlns=\"http://www.w3.org/2000/svg\" height=\"24px\"viewBox=\"0 0 24 24\"\n",
              "       width=\"24px\">\n",
              "    <path d=\"M0 0h24v24H0V0z\" fill=\"none\"/>\n",
              "    <path d=\"M18.56 5.44l.94 2.06.94-2.06 2.06-.94-2.06-.94-.94-2.06-.94 2.06-2.06.94zm-11 1L8.5 8.5l.94-2.06 2.06-.94-2.06-.94L8.5 2.5l-.94 2.06-2.06.94zm10 10l.94 2.06.94-2.06 2.06-.94-2.06-.94-.94-2.06-.94 2.06-2.06.94z\"/><path d=\"M17.41 7.96l-1.37-1.37c-.4-.4-.92-.59-1.43-.59-.52 0-1.04.2-1.43.59L10.3 9.45l-7.72 7.72c-.78.78-.78 2.05 0 2.83L4 21.41c.39.39.9.59 1.41.59.51 0 1.02-.2 1.41-.59l7.78-7.78 2.81-2.81c.8-.78.8-2.07 0-2.86zM5.41 20L4 18.59l7.72-7.72 1.47 1.35L5.41 20z\"/>\n",
              "  </svg>\n",
              "      </button>\n",
              "      \n",
              "  <style>\n",
              "    .colab-df-container {\n",
              "      display:flex;\n",
              "      flex-wrap:wrap;\n",
              "      gap: 12px;\n",
              "    }\n",
              "\n",
              "    .colab-df-convert {\n",
              "      background-color: #E8F0FE;\n",
              "      border: none;\n",
              "      border-radius: 50%;\n",
              "      cursor: pointer;\n",
              "      display: none;\n",
              "      fill: #1967D2;\n",
              "      height: 32px;\n",
              "      padding: 0 0 0 0;\n",
              "      width: 32px;\n",
              "    }\n",
              "\n",
              "    .colab-df-convert:hover {\n",
              "      background-color: #E2EBFA;\n",
              "      box-shadow: 0px 1px 2px rgba(60, 64, 67, 0.3), 0px 1px 3px 1px rgba(60, 64, 67, 0.15);\n",
              "      fill: #174EA6;\n",
              "    }\n",
              "\n",
              "    [theme=dark] .colab-df-convert {\n",
              "      background-color: #3B4455;\n",
              "      fill: #D2E3FC;\n",
              "    }\n",
              "\n",
              "    [theme=dark] .colab-df-convert:hover {\n",
              "      background-color: #434B5C;\n",
              "      box-shadow: 0px 1px 3px 1px rgba(0, 0, 0, 0.15);\n",
              "      filter: drop-shadow(0px 1px 2px rgba(0, 0, 0, 0.3));\n",
              "      fill: #FFFFFF;\n",
              "    }\n",
              "  </style>\n",
              "\n",
              "      <script>\n",
              "        const buttonEl =\n",
              "          document.querySelector('#df-0c3415cd-117b-4bc8-9636-98c44b88334e button.colab-df-convert');\n",
              "        buttonEl.style.display =\n",
              "          google.colab.kernel.accessAllowed ? 'block' : 'none';\n",
              "\n",
              "        async function convertToInteractive(key) {\n",
              "          const element = document.querySelector('#df-0c3415cd-117b-4bc8-9636-98c44b88334e');\n",
              "          const dataTable =\n",
              "            await google.colab.kernel.invokeFunction('convertToInteractive',\n",
              "                                                     [key], {});\n",
              "          if (!dataTable) return;\n",
              "\n",
              "          const docLinkHtml = 'Like what you see? Visit the ' +\n",
              "            '<a target=\"_blank\" href=https://colab.research.google.com/notebooks/data_table.ipynb>data table notebook</a>'\n",
              "            + ' to learn more about interactive tables.';\n",
              "          element.innerHTML = '';\n",
              "          dataTable['output_type'] = 'display_data';\n",
              "          await google.colab.output.renderOutput(dataTable, element);\n",
              "          const docLink = document.createElement('div');\n",
              "          docLink.innerHTML = docLinkHtml;\n",
              "          element.appendChild(docLink);\n",
              "        }\n",
              "      </script>\n",
              "    </div>\n",
              "  </div>\n",
              "  "
            ]
          },
          "metadata": {},
          "execution_count": 67
        }
      ]
    },
    {
      "cell_type": "code",
      "source": [
        "x=data.drop(['All_death_event'],axis=1)\n",
        "y=data.All_death_event\n",
        "y\n",
        "\n",
        "from sklearn.model_selection import train_test_split\n",
        "X_train, X_test, y_train, y_test = train_test_split(x,y, test_size=0.3, random_state=0)"
      ],
      "metadata": {
        "id": "HaD-1oAhDudu"
      },
      "execution_count": null,
      "outputs": []
    },
    {
      "cell_type": "code",
      "source": [],
      "metadata": {
        "id": "BAS4chDGTPvh"
      },
      "execution_count": null,
      "outputs": []
    },
    {
      "cell_type": "code",
      "source": [
        "from sklearn import svm\n",
        "clf = svm.SVC(kernel=\"linear\")\n",
        "clf.fit(X_train, y_train)\n",
        "\n",
        "pred=clf.predict(X_test)\n",
        "\n",
        "\n",
        "# Evaluation\n",
        "from sklearn import metrics\n",
        "print(\"Accuracy\",metrics.accuracy_score(y_test,pred))\n",
        "\n",
        "# "
      ],
      "metadata": {
        "colab": {
          "base_uri": "https://localhost:8080/"
        },
        "id": "DDkQ6SS4LmZW",
        "outputId": "507e30d1-eb92-40bb-ec1f-f6649c99df6d"
      },
      "execution_count": null,
      "outputs": [
        {
          "output_type": "stream",
          "name": "stdout",
          "text": [
            "Accuracy 0.8494623655913979\n"
          ]
        }
      ]
    }
  ]
}